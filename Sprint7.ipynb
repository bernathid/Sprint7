{
  "cells": [
    {
      "cell_type": "code",
      "execution_count": 4,
      "metadata": {
        "trusted": true
      },
      "outputs": [
        {
          "name": "stdout",
          "output_type": "stream",
          "text": [
            "18.730489073881373\n",
            "Normal\n"
          ]
        }
      ],
      "source": [
        "#Solicitamos los datos\n",
        "peso = float(input(\"Ingrese su peso en kg:\"))\n",
        "\n",
        "altura = float(input(\"Ingrese su altura en metros:\"))\n",
        "\n",
        "#Calculamos el IMC\n",
        "imc = peso / (altura ** 2)\n",
        "\n",
        "# Determinamos la clasificación del IMC\n",
        "if imc < 18.5:\n",
        "    clasificacion = \"Peso inferior al normal\"\n",
        "elif 18.5 <= imc <= 24.9:\n",
        "    clasificacion = \"Normal\"\n",
        "elif 25.0 <= imc <= 29.9:\n",
        "    clasificacion = \"Peso superior al normal\"\n",
        "else:\n",
        "    clasificacion = \"Obesidad\"\n",
        "\n",
        "#Mostramos los resultados\n",
        "\n",
        "print(imc) #Indicamos 2 decimales\n",
        "\n",
        "print(clasificacion)"
      ]
    },
    {
      "cell_type": "code",
      "execution_count": 5,
      "metadata": {
        "trusted": true
      },
      "outputs": [
        {
          "name": "stdout",
          "output_type": "stream",
          "text": [
            "1.- Fahrenheit a Celsius\n",
            "2.- Celsius a Fahrenheit\n",
            "56 grados Fahrenheit son 13.333333333333334 grados Celsius\n",
            "1.- Fahrenheit a Celsius\n",
            "2.- Celsius a Fahrenheit\n",
            "Ingrese solo números.(1/2)\n",
            "1.- Fahrenheit a Celsius\n",
            "2.- Celsius a Fahrenheit\n",
            "Ingrese solo números.(1/2)\n",
            "1.- Fahrenheit a Celsius\n",
            "2.- Celsius a Fahrenheit\n",
            "Ingrese solo números.(1/2)\n",
            "1.- Fahrenheit a Celsius\n",
            "2.- Celsius a Fahrenheit\n",
            "Ingrese solo números.(1/2)\n",
            "1.- Fahrenheit a Celsius\n",
            "2.- Celsius a Fahrenheit\n"
          ]
        }
      ],
      "source": [
        "def fahrenheit_celsius():\n",
        "    '''convierte temperatura en grados fahrenheit a grados celsius'''\n",
        "\n",
        "    fahrenheit = int(input('Ingrese la temperatura en grados Fahrenheit: '))\n",
        "    celsius = (fahrenheit -32 ) * 5.0/9.0\n",
        "    return '{} grados Fahrenheit son {} grados Celsius'.format(fahrenheit, celsius)\n",
        "\n",
        "def celsius_fahrenheit():\n",
        "    '''convierte temperatura en grados celsius a fahrenheit'''\n",
        "\n",
        "    celsius = int(input('Ingrese la temperatura en grados Celsius: '))\n",
        "    fahrenheit = 9.0/5.0 * celsius +32\n",
        "    return '{} grados Celsius son {} grados Fahrenheit'.format(fahrenheit, celsius)\n",
        "\n",
        "while True:\n",
        "    print('1.- Fahrenheit a Celsius')\n",
        "    print('2.- Celsius a Fahrenheit')\n",
        "\n",
        "    try:\n",
        "        opcion = int(input('Seleccione una opción: '))\n",
        "        if opcion == 1:\n",
        "            print(fahrenheit_celsius())\n",
        "        elif opcion == 2:\n",
        "            print(celsius_fahrenheit())\n",
        "        else:\n",
        "            raise ValueError\n",
        "    except ValueError:\n",
        "        print('Ingrese solo números.(1/2)')"
      ]
    },
    {
      "cell_type": "code",
      "execution_count": null,
      "metadata": {
        "trusted": true
      },
      "outputs": [],
      "source": [
        "def contar_palabras(texto):\n",
        "    # Creamos un diccionario para almacenar las palabras y sus frecuencias\n",
        "    frecuencia_palabras = {}\n",
        "\n",
        "    # Dividimos el texto en palabras usando el espacio como separador\n",
        "    palabras = texto.split()\n",
        "\n",
        "    # Iteramos sobre cada palabra en el texto\n",
        "    for palabra in palabras:\n",
        "        # Eliminamos los signos de puntuación alrededor de la palabra\n",
        "        palabra = palabra.strip('.,!?;:\"()[]{}')\n",
        "\n",
        "        # Convertimos la palabra a minúsculas para evitar diferencias de capitalización\n",
        "        palabra = palabra.lower()\n",
        "\n",
        "        # Si la palabra ya está en el diccionario, incrementamos su frecuencia\n",
        "        if palabra in frecuencia_palabras:\n",
        "            frecuencia_palabras[palabra] += 1\n",
        "        # Si la palabra no está en el diccionario, la inicializamos con una frecuencia de 1\n",
        "        else:\n",
        "            frecuencia_palabras[palabra] = 1\n",
        "\n",
        "    # Mostramos las palabras y sus frecuencias\n",
        "    for palabra, frecuencia in frecuencia_palabras.items():\n",
        "        print(f\"{palabra}: {frecuencia}\")\n",
        "\n",
        "# Ejemplo de uso\n",
        "texto = \"\"\"Este es un ejemplo de texto. El propósito de este texto es mostrar cómo contar palabras en un texto. \n",
        "Este texto tiene algunas repeticiones de palabras, como 'texto', 'este' y 'en'.\"\"\"\n",
        "contar_palabras(texto)"
      ]
    },
    {
      "cell_type": "code",
      "execution_count": 7,
      "metadata": {},
      "outputs": [
        {
          "name": "stdout",
          "output_type": "stream",
          "text": [
            "Error: valor duplicat 5 en la clau z\n"
          ]
        },
        {
          "data": {
            "text/plain": [
              "{1: 'a', 5: 'b', 3: 'c'}"
            ]
          },
          "execution_count": 7,
          "metadata": {},
          "output_type": "execute_result"
        }
      ],
      "source": [
        "dicc_or = {'a': 1, 'b': 2, 'c': 3, 'z': 3, 'z': 5, 'z': 5, 'b': 5 }\n",
        "# insertem el diccionari original\n",
        "\n",
        "def dicc_conv(di):\n",
        "    dicc_inv = {} # definim la funcio dicccionari i creem un diccionari buit\n",
        "    valors = set () #eliminem duplicats funcio set\n",
        "    for  key, value in di.items(): # recorrem el diccionari amb bucle for si troba duplicat advertiment\n",
        "        if value in valors:\n",
        "            print('Error: valor duplicat', value, 'en la clau', key)\n",
        "        else:\n",
        "            valors.add(value)\n",
        "            dicc_inv[value] = key #invertim el output\n",
        "    return dicc_inv\n",
        "dicc_conv(dicc_or)\n",
        "\n"
      ]
    },
    {
      "cell_type": "code",
      "execution_count": 1,
      "metadata": {
        "trusted": true
      },
      "outputs": [
        {
          "name": "stdout",
          "output_type": "stream",
          "text": [
            "Diccionari original: {'a': 1, 'b': 2, 'c': 1, 'd': 3, 'e': 2}\n",
            "Diccionari invers: {1: ['a', 'c'], 2: ['b', 'e'], 3: 'd'}\n"
          ]
        }
      ],
      "source": [
        "def diccionari_invers(diccionari):\n",
        "    # Intercanviar claus i valors, gestionant duplicats\n",
        "    diccionari_invers = {}\n",
        "    for clau, valor in diccionari.items():\n",
        "        if valor in diccionari_invers:\n",
        "            if isinstance(diccionari_invers[valor], list):\n",
        "                diccionari_invers[valor].append(clau)\n",
        "            else:\n",
        "                diccionari_invers[valor] = [diccionari_invers[valor], clau]\n",
        "        else:\n",
        "            diccionari_invers[valor] = clau\n",
        "\n",
        "    return diccionari_invers\n",
        "\n",
        "# Exemple d'ús\n",
        "diccionari_original = {'a': 1, 'b': 2, 'c': 1, 'd': 3, 'e': 2}\n",
        "diccionari_invers_resultant = diccionari_invers(diccionari_original)\n",
        "\n",
        "print(\"Diccionari original:\", diccionari_original)\n",
        "print(\"Diccionari invers:\", diccionari_invers_resultant)\n"
      ]
    },
    {
      "cell_type": "code",
      "execution_count": 10,
      "metadata": {
        "trusted": true
      },
      "outputs": [
        {
          "name": "stdout",
          "output_type": "stream",
          "text": [
            "Elements convertits a flotants: ['1.3', '1e10', '2', 1, 1.4, 1, 2, '3', '3.4']\n",
            "Elements no convertits a flotants: ['one', 'seven', '3-1/2', 'not-a-number']\n"
          ]
        }
      ],
      "source": [
        "def dividir_llistes(dades):\n",
        "    elements_convertits = []\n",
        "    elements_no_convertits = []\n",
        "\n",
        "    for element in dades:\n",
        "        if isinstance(element, (list, tuple)):\n",
        "            for a in element:\n",
        "                try:\n",
        "                    # Intenta convertir l'element a float\n",
        "                    valor = float(a)\n",
        "                    # Si es pot convertir, afegim a la llista d'elements convertits\n",
        "                    elements_convertits.append(a)\n",
        "                except ValueError:\n",
        "                    # Si no es pot convertir, afegim a la llista d'elements no convertits\n",
        "                    elements_no_convertits.append(a)\n",
        "        else:\n",
        "            try:\n",
        "                    # Intenta convertir l'element a float\n",
        "                    valor = float(element)\n",
        "                    # Si es pot convertir, afegim a la llista d'elements convertits\n",
        "                    elements_convertits.append(element)\n",
        "            except ValueError:\n",
        "                    # Si no es pot convertir, afegim a la llista d'elements no convertits\n",
        "                    elements_no_convertits.append(element)\n",
        "    return elements_convertits, elements_no_convertits\n",
        "\n",
        "# Llista proporcionada pel client\n",
        "dades = [ '1.3', 'one' , '1e10' , 'seven', '3-1/2', ('2',1,1.4,'not-a-number'), [1,2,'3','3.4']]\n",
        "\n",
        "# Dividir la llista en dos\n",
        "elements_convertits, elements_no_convertits = dividir_llistes(dades)\n",
        "\n",
        "print(\"Elements convertits a flotants:\", elements_convertits)\n",
        "print(\"Elements no convertits a flotants:\", elements_no_convertits)\n"
      ]
    }
  ],
  "metadata": {
    "kernelspec": {
      "display_name": "Python 3",
      "language": "python",
      "name": "python3"
    },
    "language_info": {
      "codemirror_mode": {
        "name": "ipython",
        "version": 3
      },
      "file_extension": ".py",
      "mimetype": "text/x-python",
      "name": "python",
      "nbconvert_exporter": "python",
      "pygments_lexer": "ipython3",
      "version": "3.12.0"
    }
  },
  "nbformat": 4,
  "nbformat_minor": 4
}
