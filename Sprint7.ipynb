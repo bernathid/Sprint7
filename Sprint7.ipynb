{
  "metadata": {
    "kernelspec": {
      "name": "python",
      "display_name": "Python (Pyodide)",
      "language": "python"
    },
    "language_info": {
      "codemirror_mode": {
        "name": "python",
        "version": 3
      },
      "file_extension": ".py",
      "mimetype": "text/x-python",
      "name": "python",
      "nbconvert_exporter": "python",
      "pygments_lexer": "ipython3",
      "version": "3.8"
    }
  },
  "nbformat_minor": 4,
  "nbformat": 4,
  "cells": [
    {
      "cell_type": "code",
      "source": "#Solicitamos los datos\npeso = float(input(\"Ingrese su peso en kg:\"))\n\naltura = float(input(\"Ingrese su altura en metros:\"))\n\n#Calculamos el IMC\nimc = peso / (altura ** 2)\n\n# Determinamos la clasificación del IMC\nif imc < 18.5:\n    clasificacion = \"Peso inferior al normal\"\nelif 18.5 <= imc 24.9:\n    clasificacion = \"Normal\"\nelif 25.0 <= imc <= 29.9:\n    clasificacion = \"Peso superior al normal\"\nelse:\n    clasificacion = \"Obesidad\"\n\n#Mostramos los resultados\n\nprint(f\"Su IMC es: {imc:.2f}\") #Indicamos 2 decimales\n\nprint(f\"Clasificación: {clasificacion}”)\n\n",
      "metadata": {
        "trusted": true
      },
      "outputs": [
        {
          "ename": "<class 'SyntaxError'>",
          "evalue": "unterminated string literal (detected at line 23) (<ipython-input-6-e0a6745a7ca6>, line 23)",
          "traceback": [
            "\u001b[0;36m  Cell \u001b[0;32mIn[6], line 23\u001b[0;36m\u001b[0m\n\u001b[0;31m    print(f\"Clasificación: {clasificacion}”)\u001b[0m\n\u001b[0m          ^\u001b[0m\n\u001b[0;31mSyntaxError\u001b[0m\u001b[0;31m:\u001b[0m unterminated string literal (detected at line 23)\n"
          ],
          "output_type": "error"
        }
      ],
      "execution_count": 6
    },
    {
      "cell_type": "code",
      "source": "#Solicitamos los datos\npeso = float(input(\"Ingrese su peso en kg:\"))\n\naltura = float(input(\"Ingrese su altura en metros:\"))\n\n#Calculamos el IMC\nimc = peso / (altura ** 2)\n\n# Determinamos la clasificación del IMC\nif imc < 18.5:\n    clasificacion = \"Peso inferior al normal\"\nelif 18.5 <= imc <= 24.9:\n    clasificacion = \"Normal\"\nelif 25.0 <= imc <= 29.9:\n    clasificacion = \"Peso superior al normal\"\nelse:\n    clasificacion = \"Obesidad\"\n\n#Mostramos los resultados\n\nprint(imc) #Indicamos 2 decimales\n\nprint(clasificacion)",
      "metadata": {
        "trusted": true
      },
      "outputs": [
        {
          "ename": "<class 'TypeError'>",
          "evalue": "float() argument must be a string or a real number, not 'PyodideFuture'",
          "traceback": [
            "\u001b[0;31m---------------------------------------------------------------------------\u001b[0m",
            "\u001b[0;31mTypeError\u001b[0m                                 Traceback (most recent call last)",
            "Cell \u001b[0;32mIn[2], line 2\u001b[0m\n\u001b[1;32m      1\u001b[0m \u001b[38;5;66;03m#Solicitamos los datos\u001b[39;00m\n\u001b[0;32m----> 2\u001b[0m peso \u001b[38;5;241m=\u001b[39m \u001b[38;5;28;43mfloat\u001b[39;49m\u001b[43m(\u001b[49m\u001b[38;5;28;43minput\u001b[39;49m\u001b[43m(\u001b[49m\u001b[38;5;124;43m\"\u001b[39;49m\u001b[38;5;124;43mIngrese su peso en kg:\u001b[39;49m\u001b[38;5;124;43m\"\u001b[39;49m\u001b[43m)\u001b[49m\u001b[43m)\u001b[49m\n\u001b[1;32m      4\u001b[0m altura \u001b[38;5;241m=\u001b[39m \u001b[38;5;28mfloat\u001b[39m(\u001b[38;5;28minput\u001b[39m(\u001b[38;5;124m\"\u001b[39m\u001b[38;5;124mIngrese su altura en metros:\u001b[39m\u001b[38;5;124m\"\u001b[39m))\n\u001b[1;32m      6\u001b[0m \u001b[38;5;66;03m#Calculamos el IMC\u001b[39;00m\n",
            "\u001b[0;31mTypeError\u001b[0m: float() argument must be a string or a real number, not 'PyodideFuture'"
          ],
          "output_type": "error"
        },
        {
          "output_type": "stream",
          "name": "stdin",
          "text": "Ingrese su peso en kg: 89\n"
        }
      ],
      "execution_count": 2
    },
    {
      "cell_type": "code",
      "source": "peso_input = input('Ingrese el peso en kg: ')\naltura_input = input('Ingrese la altura en metros: ')\n        \npeso = float(peso_input)\naltura = float(altura_input)\n#Calculamos el IMC\nimc = peso / (altura ** 2)\n\n# Determinamos la clasificación del IMC\nif imc < 18.5:\n    clasificacion = \"Peso inferior al normal\"\nelif 18.5 <= imc <= 24.9:\n    clasificacion = \"Normal\"\nelif 25.0 <= imc <= 29.9:\n    clasificacion = \"Peso superior al normal\"\nelse:\n    clasificacion = \"Obesidad\"\n\n#Mostramos los resultados\n\nprint(imc) #Indicamos 2 decimales\n\nprint(clasificacion)\n",
      "metadata": {
        "trusted": true
      },
      "outputs": [
        {
          "ename": "<class 'TypeError'>",
          "evalue": "float() argument must be a string or a real number, not 'PyodideFuture'",
          "traceback": [
            "\u001b[0;31m---------------------------------------------------------------------------\u001b[0m",
            "\u001b[0;31mTypeError\u001b[0m                                 Traceback (most recent call last)",
            "Cell \u001b[0;32mIn[2], line 4\u001b[0m\n\u001b[1;32m      1\u001b[0m peso_input \u001b[38;5;241m=\u001b[39m \u001b[38;5;28minput\u001b[39m(\u001b[38;5;124m'\u001b[39m\u001b[38;5;124mIngrese el peso en kg: \u001b[39m\u001b[38;5;124m'\u001b[39m)\n\u001b[1;32m      2\u001b[0m altura_input \u001b[38;5;241m=\u001b[39m \u001b[38;5;28minput\u001b[39m(\u001b[38;5;124m'\u001b[39m\u001b[38;5;124mIngrese la altura en metros: \u001b[39m\u001b[38;5;124m'\u001b[39m)\n\u001b[0;32m----> 4\u001b[0m peso \u001b[38;5;241m=\u001b[39m \u001b[38;5;28;43mfloat\u001b[39;49m\u001b[43m(\u001b[49m\u001b[43mpeso_input\u001b[49m\u001b[43m)\u001b[49m\n\u001b[1;32m      5\u001b[0m altura \u001b[38;5;241m=\u001b[39m \u001b[38;5;28mfloat\u001b[39m(altura_input)\n\u001b[1;32m      6\u001b[0m \u001b[38;5;66;03m#Calculamos el IMC\u001b[39;00m\n",
            "\u001b[0;31mTypeError\u001b[0m: float() argument must be a string or a real number, not 'PyodideFuture'"
          ],
          "output_type": "error"
        },
        {
          "output_type": "stream",
          "name": "stdin",
          "text": "Ingrese la altura en metros:  1.7\nIngrese el peso en kg:  77\n"
        }
      ],
      "execution_count": 2
    },
    {
      "cell_type": "code",
      "source": "def fahrenheit_celsius():\n    '''convierte temperatura en grados fahrenheit a grados celsius'''\n\n    fahrenheit = int(input('Ingrese la temperatura en grados Fahrenheit: '))\n    celsius = (fahrenheit -32 ) * 5.0/9.0\n    return '{} grados Fahrenheit son {} grados Celsius'.format(fahrenheit, celsius)\n\ndef celsius_fahrenheit():\n    '''convierte temperatura en grados celsius a fahrenheit'''\n\n    celsius = int(input('Ingrese la temperatura en grados Celsius: '))\n    fahrenheit = 9.0/5.0 * celsius +32\n    return '{} grados Celsius son {} grados Fahrenheit'.format(fahrenheit, celsius)\n\nwhile True:\n    print('1.- Fahrenheit a Celsius')\n    print('2.- Celsius a Fahrenheit')\n\n    try:\n        opcion = int(input('Seleccione una opción: '))\n        if opcion == 1:\n            print(fahrenheit_celsius())\n        elif opcion == 2:\n            print(celsius_fahrenheit())\n        else:\n            raise ValueError\n    except ValueError:\n        print('Ingrese solo números.(1/2)')",
      "metadata": {
        "trusted": true
      },
      "outputs": [],
      "execution_count": null
    },
    {
      "cell_type": "code",
      "source": "def contar_palabras(texto):\n    # Creamos un diccionario para almacenar las palabras y sus frecuencias\n    frecuencia_palabras = {}\n\n    # Dividimos el texto en palabras usando el espacio como separador\n    palabras = texto.split()\n\n    # Iteramos sobre cada palabra en el texto\n    for palabra in palabras:\n        # Eliminamos los signos de puntuación alrededor de la palabra\n        palabra = palabra.strip('.,!?;:\"()[]{}')\n\n        # Convertimos la palabra a minúsculas para evitar diferencias de capitalización\n        palabra = palabra.lower()\n\n        # Si la palabra ya está en el diccionario, incrementamos su frecuencia\n        if palabra in frecuencia_palabras:\n            frecuencia_palabras[palabra] += 1\n        # Si la palabra no está en el diccionario, la inicializamos con una frecuencia de 1\n        else:\n            frecuencia_palabras[palabra] = 1\n\n    # Mostramos las palabras y sus frecuencias\n    for palabra, frecuencia in frecuencia_palabras.items():\n        print(f\"{palabra}: {frecuencia}\")\n\n# Ejemplo de uso\ntexto = \"\"\"Este es un ejemplo de texto. El propósito de este texto es mostrar cómo contar palabras en un texto. \nEste texto tiene algunas repeticiones de palabras, como 'texto', 'este' y 'en'.\"\"\"\ncontar_palabras(texto)",
      "metadata": {
        "trusted": true
      },
      "outputs": [],
      "execution_count": 19
    },
    {
      "cell_type": "code",
      "source": "def diccionari_invers(diccionari):\n    # Comprovem si els valors i les claus són únics\n    valors_unicos = len(set(diccionari.values())) == len(diccionari.values())\n    claus_unicas = len(set(diccionari.keys())) == len(diccionari.keys())\n\n    if not (valors_unicos and claus_unicas):\n        print(\"Advertència: Els valors i les claus al diccionari original no són únics.\")\n        return None\n\n    # Intercanviem claus i valors\n    diccionari_invers = {valor: clau for clau, valor in diccionari.items()}\n\n    return diccionari_invers\n\n# Exemple d'ús\ndiccionari_original = {'a': 1, 'b': 2, 'c': 3}\ndiccionari_invers_resultant = diccionari_invers(diccionari_original)\n\nif diccionari_invers_resultant is not None:\n    print(\"Diccionari original:\", diccionari_original)\n    print(\"Diccionari invers:\", diccionari_invers_resultant)\n",
      "metadata": {
        "trusted": true
      },
      "outputs": [],
      "execution_count": null
    },
    {
      "cell_type": "code",
      "source": "def diccionari_invers(diccionari):\n    # Intercanviar claus i valors, gestionant duplicats\n    diccionari_invers = {}\n    for clau, valor in diccionari.items():\n        if valor in diccionari_invers:\n            if isinstance(diccionari_invers[valor], list):\n                diccionari_invers[valor].append(clau)\n            else:\n                diccionari_invers[valor] = [diccionari_invers[valor], clau]\n        else:\n            diccionari_invers[valor] = clau\n\n    return diccionari_invers\n\n# Exemple d'ús\ndiccionari_original = {'a': 1, 'b': 2, 'c': 1, 'd': 3, 'e': 2}\ndiccionari_invers_resultant = diccionari_invers(diccionari_original)\n\nprint(\"Diccionari original:\", diccionari_original)\nprint(\"Diccionari invers:\", diccionari_invers_resultant)\n",
      "metadata": {
        "trusted": true
      },
      "outputs": [],
      "execution_count": null
    },
    {
      "cell_type": "code",
      "source": "def dividir_llistes(dades):\n    elements_convertits = []\n    elements_no_convertits = []\n\n    for element in dades:\n        try:\n            # Intenta convertir l'element a float\n            valor = float(element)\n            # Si es pot convertir, afegim a la llista d'elements convertits\n            elements_convertits.append(valor)\n        except ValueError:\n            # Si no es pot convertir, afegim a la llista d'elements no convertits\n            elements_no_convertits.append(element)\n\n    return elements_convertits, elements_no_convertits\n\n# Llista proporcionada pel client\ndades = ['1.3', 'one', '1e10', 'seven', '3-1/2', '2', '1', '1.4', 'not-a-number', '1', '2', '3', '3.4']\n\n# Dividir la llista en dos\nelements_convertits, elements_no_convertits = dividir_llistes(dades)\n\nprint(\"Elements convertits a flotants:\", elements_convertits)\nprint(\"Elements no convertits a flotants:\", elements_no_convertits)\n",
      "metadata": {
        "trusted": true
      },
      "outputs": [
        {
          "name": "stdout",
          "text": "Elements convertits a flotants: [1.3, 10000000000.0, 2.0, 1.0, 1.4, 1.0, 2.0, 3.0, 3.4]\nElements no convertits a flotants: ['one', 'seven', '3-1/2', 'not-a-number']\n",
          "output_type": "stream"
        }
      ],
      "execution_count": 3
    }
  ]
}